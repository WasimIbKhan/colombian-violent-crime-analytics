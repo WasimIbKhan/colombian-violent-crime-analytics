{
 "cells": [
  {
   "cell_type": "markdown",
   "id": "072f3ea8-8374-43ec-a660-f8a3d1aee382",
   "metadata": {},
   "source": [
    "# Purpose"
   ]
  },
  {
   "cell_type": "markdown",
   "id": "37b95885-8421-4ba9-a0f8-20867c063950",
   "metadata": {},
   "source": [
    "### Visualise the Geographical Distribution of Incidents\n",
    "Through interactive maps, we intend to plot the locations of violent incidents, providing a visual understanding of the hotspots and geographical spread of violence within Colombia. This visualization will help in identifying regions with heightened levels of violence, offering insights into areas that may require increased attention or intervention.\n",
    "\n",
    "### Analyze the Data to Uncover Patterns and Trends \n",
    "Beyond mere visualization, the notebook seeks to delve deeper into the dataset to analyze patterns, trends, and correlations in the violent incidents. This includes examining the frequency of incidents over time, the types and sub-types of violence, the actors involved, and the impact in terms of fatalities. By doing so, we aim to understand the dynamics of violence in Colombia, identifying potential drivers and the characteristics of the most affected regions.\n",
    "\n",
    "### Inform Policy and Intervention Strategies\n",
    "The ultimate goal of this analysis is not just to document and visualize the incidents of violence but to extract actionable insights that can inform policy-making, conflict resolution, and intervention strategies. By identifying the most affected areas and understanding the nature of violence, stakeholders can better allocate resources, design targeted interventions, and work towards reducing violence and its impact on communities in Colombia."
   ]
  },
  {
   "cell_type": "markdown",
   "id": "fb27b2ca-151e-45b3-9462-dcb28945caa6",
   "metadata": {},
   "source": [
    "## Load Dataset"
   ]
  },
  {
   "cell_type": "code",
   "execution_count": 1,
   "id": "20097d20-57fa-410b-a259-522c8710ec58",
   "metadata": {
    "scrolled": true
   },
   "outputs": [],
   "source": [
    "#!pip install pandas numpy matplotlib seaborn plotly geopandas dash shapely"
   ]
  },
  {
   "cell_type": "code",
   "execution_count": 2,
   "id": "a77f1afa-7db0-4e6c-a07d-b8ceb5647685",
   "metadata": {},
   "outputs": [
    {
     "name": "stderr",
     "output_type": "stream",
     "text": [
      "C:\\Users\\User\\AppData\\Local\\Temp\\ipykernel_16708\\3182543233.py:1: DeprecationWarning: \n",
      "Pyarrow will become a required dependency of pandas in the next major release of pandas (pandas 3.0),\n",
      "(to allow more performant data types, such as the Arrow string type, and better interoperability with other libraries)\n",
      "but was not found to be installed on your system.\n",
      "If this would cause problems for you,\n",
      "please provide us feedback at https://github.com/pandas-dev/pandas/issues/54466\n",
      "        \n",
      "  import pandas as pd\n"
     ]
    }
   ],
   "source": [
    "import pandas as pd  \n",
    "import numpy as np  \n",
    "\n",
    "import matplotlib.pyplot as plt  \n",
    "import seaborn as sns \n",
    "import plotly.express as px  \n",
    "\n",
    "import geopandas as gpd  "
   ]
  },
  {
   "cell_type": "code",
   "execution_count": 3,
   "id": "837efe52-ca75-45ae-a789-7067f5956328",
   "metadata": {},
   "outputs": [
    {
     "data": {
      "text/html": [
       "<div>\n",
       "<style scoped>\n",
       "    .dataframe tbody tr th:only-of-type {\n",
       "        vertical-align: middle;\n",
       "    }\n",
       "\n",
       "    .dataframe tbody tr th {\n",
       "        vertical-align: top;\n",
       "    }\n",
       "\n",
       "    .dataframe thead th {\n",
       "        text-align: right;\n",
       "    }\n",
       "</style>\n",
       "<table border=\"1\" class=\"dataframe\">\n",
       "  <thead>\n",
       "    <tr style=\"text-align: right;\">\n",
       "      <th></th>\n",
       "      <th>lat</th>\n",
       "      <th>lon</th>\n",
       "      <th>data_id</th>\n",
       "      <th>event_date</th>\n",
       "      <th>year</th>\n",
       "      <th>event_type</th>\n",
       "      <th>sub_event_type</th>\n",
       "      <th>actor1</th>\n",
       "      <th>actor2</th>\n",
       "      <th>region</th>\n",
       "      <th>country</th>\n",
       "      <th>admin1</th>\n",
       "      <th>lat.1</th>\n",
       "      <th>lon.1</th>\n",
       "      <th>fatalities</th>\n",
       "    </tr>\n",
       "  </thead>\n",
       "  <tbody>\n",
       "    <tr>\n",
       "      <th>0</th>\n",
       "      <td>1.4792</td>\n",
       "      <td>-75.4364</td>\n",
       "      <td>8643511</td>\n",
       "      <td>12-Nov-21</td>\n",
       "      <td>2021</td>\n",
       "      <td>Violence against civilians</td>\n",
       "      <td>Attack</td>\n",
       "      <td>Unidentified Armed Group (Colombia)</td>\n",
       "      <td>Civilians (Colombia)</td>\n",
       "      <td>South America</td>\n",
       "      <td>Colombia</td>\n",
       "      <td>Caqueta</td>\n",
       "      <td>1.4792</td>\n",
       "      <td>-75.4364</td>\n",
       "      <td>1</td>\n",
       "    </tr>\n",
       "    <tr>\n",
       "      <th>1</th>\n",
       "      <td>7.8939</td>\n",
       "      <td>-72.5078</td>\n",
       "      <td>8643845</td>\n",
       "      <td>12-Nov-21</td>\n",
       "      <td>2021</td>\n",
       "      <td>Violence against civilians</td>\n",
       "      <td>Attack</td>\n",
       "      <td>Police Forces of Colombia (2018-)</td>\n",
       "      <td>Civilians (Colombia)</td>\n",
       "      <td>South America</td>\n",
       "      <td>Colombia</td>\n",
       "      <td>Norte de Santander</td>\n",
       "      <td>7.8939</td>\n",
       "      <td>-72.5078</td>\n",
       "      <td>0</td>\n",
       "    </tr>\n",
       "    <tr>\n",
       "      <th>2</th>\n",
       "      <td>6.2246</td>\n",
       "      <td>-77.4034</td>\n",
       "      <td>8643619</td>\n",
       "      <td>11-Nov-21</td>\n",
       "      <td>2021</td>\n",
       "      <td>Battles</td>\n",
       "      <td>Armed clash</td>\n",
       "      <td>Military Forces of Colombia (2018-)</td>\n",
       "      <td>Gulf Clan</td>\n",
       "      <td>South America</td>\n",
       "      <td>Colombia</td>\n",
       "      <td>Choco</td>\n",
       "      <td>6.2246</td>\n",
       "      <td>-77.4034</td>\n",
       "      <td>1</td>\n",
       "    </tr>\n",
       "    <tr>\n",
       "      <th>3</th>\n",
       "      <td>3.0161</td>\n",
       "      <td>-76.4854</td>\n",
       "      <td>8643723</td>\n",
       "      <td>11-Nov-21</td>\n",
       "      <td>2021</td>\n",
       "      <td>Explosions/Remote violence</td>\n",
       "      <td>Grenade</td>\n",
       "      <td>Unidentified Armed Group (Colombia)</td>\n",
       "      <td>Civilians (Colombia)</td>\n",
       "      <td>South America</td>\n",
       "      <td>Colombia</td>\n",
       "      <td>Cauca</td>\n",
       "      <td>3.0161</td>\n",
       "      <td>-76.4854</td>\n",
       "      <td>0</td>\n",
       "    </tr>\n",
       "    <tr>\n",
       "      <th>4</th>\n",
       "      <td>6.2246</td>\n",
       "      <td>-77.4034</td>\n",
       "      <td>8643501</td>\n",
       "      <td>10-Nov-21</td>\n",
       "      <td>2021</td>\n",
       "      <td>Battles</td>\n",
       "      <td>Armed clash</td>\n",
       "      <td>Gulf Clan</td>\n",
       "      <td>Police Forces of Colombia (2018-)</td>\n",
       "      <td>South America</td>\n",
       "      <td>Colombia</td>\n",
       "      <td>Choco</td>\n",
       "      <td>6.2246</td>\n",
       "      <td>-77.4034</td>\n",
       "      <td>2</td>\n",
       "    </tr>\n",
       "  </tbody>\n",
       "</table>\n",
       "</div>"
      ],
      "text/plain": [
       "      lat       lon  data_id event_date  year                  event_type  \\\n",
       "0  1.4792  -75.4364  8643511  12-Nov-21  2021  Violence against civilians   \n",
       "1  7.8939  -72.5078  8643845  12-Nov-21  2021  Violence against civilians   \n",
       "2  6.2246  -77.4034  8643619  11-Nov-21  2021                     Battles   \n",
       "3  3.0161  -76.4854  8643723  11-Nov-21  2021  Explosions/Remote violence   \n",
       "4  6.2246  -77.4034  8643501  10-Nov-21  2021                     Battles   \n",
       "\n",
       "  sub_event_type                               actor1  \\\n",
       "0         Attack  Unidentified Armed Group (Colombia)   \n",
       "1         Attack    Police Forces of Colombia (2018-)   \n",
       "2    Armed clash  Military Forces of Colombia (2018-)   \n",
       "3        Grenade  Unidentified Armed Group (Colombia)   \n",
       "4    Armed clash                            Gulf Clan   \n",
       "\n",
       "                              actor2         region   country  \\\n",
       "0               Civilians (Colombia)  South America  Colombia   \n",
       "1               Civilians (Colombia)  South America  Colombia   \n",
       "2                          Gulf Clan  South America  Colombia   \n",
       "3               Civilians (Colombia)  South America  Colombia   \n",
       "4  Police Forces of Colombia (2018-)  South America  Colombia   \n",
       "\n",
       "               admin1   lat.1     lon.1  fatalities  \n",
       "0             Caqueta  1.4792  -75.4364           1  \n",
       "1  Norte de Santander  7.8939  -72.5078           0  \n",
       "2               Choco  6.2246  -77.4034           1  \n",
       "3               Cauca  3.0161  -76.4854           0  \n",
       "4               Choco  6.2246  -77.4034           2  "
      ]
     },
     "execution_count": 3,
     "metadata": {},
     "output_type": "execute_result"
    }
   ],
   "source": [
    "df = pd.read_csv('acled-IISSTestdata.csv')\n",
    "df.head()"
   ]
  },
  {
   "cell_type": "code",
   "execution_count": 4,
   "id": "d0ba651e-229a-47d2-925c-f539ad2bf3c5",
   "metadata": {
    "scrolled": true
   },
   "outputs": [
    {
     "data": {
      "text/html": [
       "<div>\n",
       "<style scoped>\n",
       "    .dataframe tbody tr th:only-of-type {\n",
       "        vertical-align: middle;\n",
       "    }\n",
       "\n",
       "    .dataframe tbody tr th {\n",
       "        vertical-align: top;\n",
       "    }\n",
       "\n",
       "    .dataframe thead th {\n",
       "        text-align: right;\n",
       "    }\n",
       "</style>\n",
       "<table border=\"1\" class=\"dataframe\">\n",
       "  <thead>\n",
       "    <tr style=\"text-align: right;\">\n",
       "      <th></th>\n",
       "      <th>data_id</th>\n",
       "      <th>event_date</th>\n",
       "      <th>year</th>\n",
       "      <th>event_type</th>\n",
       "      <th>sub_event_type</th>\n",
       "      <th>actor1</th>\n",
       "      <th>actor2</th>\n",
       "      <th>region</th>\n",
       "      <th>country</th>\n",
       "      <th>admin1</th>\n",
       "      <th>lat</th>\n",
       "      <th>lon</th>\n",
       "      <th>fatalities</th>\n",
       "      <th>geometry</th>\n",
       "    </tr>\n",
       "  </thead>\n",
       "  <tbody>\n",
       "    <tr>\n",
       "      <th>0</th>\n",
       "      <td>8643511</td>\n",
       "      <td>12-Nov-21</td>\n",
       "      <td>2021</td>\n",
       "      <td>Violence against civilians</td>\n",
       "      <td>Attack</td>\n",
       "      <td>Unidentified Armed Group (Colombia)</td>\n",
       "      <td>Civilians (Colombia)</td>\n",
       "      <td>South America</td>\n",
       "      <td>Colombia</td>\n",
       "      <td>Caqueta</td>\n",
       "      <td>1.4792</td>\n",
       "      <td>-75.4364</td>\n",
       "      <td>1</td>\n",
       "      <td>POINT (-75.43640 1.47920)</td>\n",
       "    </tr>\n",
       "    <tr>\n",
       "      <th>1</th>\n",
       "      <td>8643845</td>\n",
       "      <td>12-Nov-21</td>\n",
       "      <td>2021</td>\n",
       "      <td>Violence against civilians</td>\n",
       "      <td>Attack</td>\n",
       "      <td>Police Forces of Colombia (2018-)</td>\n",
       "      <td>Civilians (Colombia)</td>\n",
       "      <td>South America</td>\n",
       "      <td>Colombia</td>\n",
       "      <td>Norte de Santander</td>\n",
       "      <td>7.8939</td>\n",
       "      <td>-72.5078</td>\n",
       "      <td>0</td>\n",
       "      <td>POINT (-72.50780 7.89390)</td>\n",
       "    </tr>\n",
       "    <tr>\n",
       "      <th>2</th>\n",
       "      <td>8643619</td>\n",
       "      <td>11-Nov-21</td>\n",
       "      <td>2021</td>\n",
       "      <td>Battles</td>\n",
       "      <td>Armed clash</td>\n",
       "      <td>Military Forces of Colombia (2018-)</td>\n",
       "      <td>Gulf Clan</td>\n",
       "      <td>South America</td>\n",
       "      <td>Colombia</td>\n",
       "      <td>Choco</td>\n",
       "      <td>6.2246</td>\n",
       "      <td>-77.4034</td>\n",
       "      <td>1</td>\n",
       "      <td>POINT (-77.40340 6.22460)</td>\n",
       "    </tr>\n",
       "    <tr>\n",
       "      <th>3</th>\n",
       "      <td>8643723</td>\n",
       "      <td>11-Nov-21</td>\n",
       "      <td>2021</td>\n",
       "      <td>Explosions/Remote violence</td>\n",
       "      <td>Grenade</td>\n",
       "      <td>Unidentified Armed Group (Colombia)</td>\n",
       "      <td>Civilians (Colombia)</td>\n",
       "      <td>South America</td>\n",
       "      <td>Colombia</td>\n",
       "      <td>Cauca</td>\n",
       "      <td>3.0161</td>\n",
       "      <td>-76.4854</td>\n",
       "      <td>0</td>\n",
       "      <td>POINT (-76.48540 3.01610)</td>\n",
       "    </tr>\n",
       "    <tr>\n",
       "      <th>4</th>\n",
       "      <td>8643501</td>\n",
       "      <td>10-Nov-21</td>\n",
       "      <td>2021</td>\n",
       "      <td>Battles</td>\n",
       "      <td>Armed clash</td>\n",
       "      <td>Gulf Clan</td>\n",
       "      <td>Police Forces of Colombia (2018-)</td>\n",
       "      <td>South America</td>\n",
       "      <td>Colombia</td>\n",
       "      <td>Choco</td>\n",
       "      <td>6.2246</td>\n",
       "      <td>-77.4034</td>\n",
       "      <td>2</td>\n",
       "      <td>POINT (-77.40340 6.22460)</td>\n",
       "    </tr>\n",
       "  </tbody>\n",
       "</table>\n",
       "</div>"
      ],
      "text/plain": [
       "   data_id event_date  year                  event_type sub_event_type  \\\n",
       "0  8643511  12-Nov-21  2021  Violence against civilians         Attack   \n",
       "1  8643845  12-Nov-21  2021  Violence against civilians         Attack   \n",
       "2  8643619  11-Nov-21  2021                     Battles    Armed clash   \n",
       "3  8643723  11-Nov-21  2021  Explosions/Remote violence        Grenade   \n",
       "4  8643501  10-Nov-21  2021                     Battles    Armed clash   \n",
       "\n",
       "                                actor1                             actor2  \\\n",
       "0  Unidentified Armed Group (Colombia)               Civilians (Colombia)   \n",
       "1    Police Forces of Colombia (2018-)               Civilians (Colombia)   \n",
       "2  Military Forces of Colombia (2018-)                          Gulf Clan   \n",
       "3  Unidentified Armed Group (Colombia)               Civilians (Colombia)   \n",
       "4                            Gulf Clan  Police Forces of Colombia (2018-)   \n",
       "\n",
       "          region   country              admin1     lat      lon  fatalities  \\\n",
       "0  South America  Colombia             Caqueta  1.4792 -75.4364           1   \n",
       "1  South America  Colombia  Norte de Santander  7.8939 -72.5078           0   \n",
       "2  South America  Colombia               Choco  6.2246 -77.4034           1   \n",
       "3  South America  Colombia               Cauca  3.0161 -76.4854           0   \n",
       "4  South America  Colombia               Choco  6.2246 -77.4034           2   \n",
       "\n",
       "                    geometry  \n",
       "0  POINT (-75.43640 1.47920)  \n",
       "1  POINT (-72.50780 7.89390)  \n",
       "2  POINT (-77.40340 6.22460)  \n",
       "3  POINT (-76.48540 3.01610)  \n",
       "4  POINT (-77.40340 6.22460)  "
      ]
     },
     "execution_count": 4,
     "metadata": {},
     "output_type": "execute_result"
    }
   ],
   "source": [
    "gdf  = gpd.read_file('acled-IISSTestdata.geojson')\n",
    "gdf.head()"
   ]
  },
  {
   "cell_type": "markdown",
   "id": "2a8b3f02-6c9f-4e12-a624-05a7d1e3cdbd",
   "metadata": {},
   "source": [
    "## Dataset Overview\n",
    "\n",
    "First we must gain a comprehensive overview of the data structure"
   ]
  },
  {
   "cell_type": "code",
   "execution_count": 5,
   "id": "7ebd5ac6-fcc2-42ae-8148-8b006580500a",
   "metadata": {
    "scrolled": true
   },
   "outputs": [
    {
     "name": "stdout",
     "output_type": "stream",
     "text": [
      "<class 'pandas.core.frame.DataFrame'>\n",
      "RangeIndex: 799 entries, 0 to 798\n",
      "Data columns (total 15 columns):\n",
      " #   Column          Non-Null Count  Dtype  \n",
      "---  ------          --------------  -----  \n",
      " 0   lat             799 non-null    float64\n",
      " 1   lon             799 non-null    object \n",
      " 2   data_id         799 non-null    int64  \n",
      " 3   event_date      799 non-null    object \n",
      " 4   year            799 non-null    int64  \n",
      " 5   event_type      799 non-null    object \n",
      " 6   sub_event_type  799 non-null    object \n",
      " 7   actor1          799 non-null    object \n",
      " 8   actor2          792 non-null    object \n",
      " 9   region          799 non-null    object \n",
      " 10  country         799 non-null    object \n",
      " 11  admin1          799 non-null    object \n",
      " 12  lat.1           799 non-null    float64\n",
      " 13  lon.1           799 non-null    object \n",
      " 14  fatalities      799 non-null    int64  \n",
      "dtypes: float64(2), int64(3), object(10)\n",
      "memory usage: 93.8+ KB\n",
      "<class 'geopandas.geodataframe.GeoDataFrame'>\n",
      "RangeIndex: 799 entries, 0 to 798\n",
      "Data columns (total 14 columns):\n",
      " #   Column          Non-Null Count  Dtype   \n",
      "---  ------          --------------  -----   \n",
      " 0   data_id         799 non-null    int64   \n",
      " 1   event_date      799 non-null    object  \n",
      " 2   year            799 non-null    int64   \n",
      " 3   event_type      799 non-null    object  \n",
      " 4   sub_event_type  799 non-null    object  \n",
      " 5   actor1          799 non-null    object  \n",
      " 6   actor2          799 non-null    object  \n",
      " 7   region          799 non-null    object  \n",
      " 8   country         799 non-null    object  \n",
      " 9   admin1          799 non-null    object  \n",
      " 10  lat             799 non-null    float64 \n",
      " 11  lon             799 non-null    float64 \n",
      " 12  fatalities      799 non-null    int64   \n",
      " 13  geometry        799 non-null    geometry\n",
      "dtypes: float64(2), geometry(1), int64(3), object(8)\n",
      "memory usage: 87.5+ KB\n"
     ]
    }
   ],
   "source": [
    "df.info()\n",
    "gdf.info()"
   ]
  },
  {
   "cell_type": "markdown",
   "id": "09f2eece-4982-4410-9e08-5220745d3d33",
   "metadata": {},
   "source": [
    "Calculate basic statistics to get an understanding of the data we are working with"
   ]
  },
  {
   "cell_type": "markdown",
   "id": "cad44851-ca01-429e-9b39-dd6f1ab7f5f9",
   "metadata": {},
   "source": [
    "Identify the Range of Events (event_type): By examining the unique values in the event_type column, we gain insight into the broad categories of violence documented in the dataset. This step is crucial for understanding the nature of the conflicts and planning subsequent analyses focusing on specific types of violence."
   ]
  },
  {
   "cell_type": "code",
   "execution_count": 6,
   "id": "75168cd7-ac13-44a0-84f0-ea0033bd1c37",
   "metadata": {},
   "outputs": [
    {
     "data": {
      "text/plain": [
       "array(['Violence against civilians', 'Battles',\n",
       "       'Explosions/Remote violence'], dtype=object)"
      ]
     },
     "execution_count": 6,
     "metadata": {},
     "output_type": "execute_result"
    }
   ],
   "source": [
    "df['event_type'].unique()"
   ]
  },
  {
   "cell_type": "markdown",
   "id": "38cdfe45-f5bc-4968-9e42-57f85ba06c8a",
   "metadata": {},
   "source": [
    "Understand Specific Violence Mechanisms (sub_event_type): Delving into the sub_event_type column, we identify the specific mechanisms or tactics of violence. This differentiation allows us to explore patterns, such as the prevalence of certain tactics over others, and their implications on the civilian population and conflict dynamics."
   ]
  },
  {
   "cell_type": "code",
   "execution_count": 7,
   "id": "cd838866-e173-4a99-8483-c9eca4a93730",
   "metadata": {},
   "outputs": [
    {
     "data": {
      "text/plain": [
       "array(['Attack', 'Armed clash', 'Grenade',\n",
       "       'Abduction/forced disappearance', 'Remote explosive/landmine/IED',\n",
       "       'Air/drone strike', 'Sexual violence'], dtype=object)"
      ]
     },
     "execution_count": 7,
     "metadata": {},
     "output_type": "execute_result"
    }
   ],
   "source": [
    "df['sub_event_type'].unique()"
   ]
  },
  {
   "cell_type": "markdown",
   "id": "e2f65237-f61a-413e-9127-bc8c809c7bce",
   "metadata": {},
   "source": [
    "Catalog the Actors Involved (actor1 and actor2): Understanding who is involved in the violence is critical for any conflict analysis. By listing the unique values in the actor1 and actor2 columns, we aim to identify the key perpetrators and victims. This exploration can reveal the main actors driving the conflict and their targets, offering insights into the conflict's social and political dimensions."
   ]
  },
  {
   "cell_type": "code",
   "execution_count": 8,
   "id": "be3f507f-289e-4680-bbae-a80d456622b4",
   "metadata": {},
   "outputs": [
    {
     "data": {
      "text/plain": [
       "array(['Unidentified Armed Group (Colombia)',\n",
       "       'Police Forces of Colombia (2018-)',\n",
       "       'Military Forces of Colombia (2018-)', 'Gulf Clan',\n",
       "       'FARC Dissident', 'FARC Dissident - 33rd Front', 'La Local Gang',\n",
       "       'ELN', 'CDF', 'FARC Dissident - 28th Front',\n",
       "       'FARC Dissident - Dagoberto Ramos',\n",
       "       'FARC Dissident - Carlos Patino Front',\n",
       "       'Private Security Forces (Colombia)',\n",
       "       'FARC Dissident - Gentil Duarte Front',\n",
       "       'FARC Dissident - Carolina Ramirez Front',\n",
       "       'FARC Dissident - Jaime Martinez', 'FARC Dissident - 10th Front',\n",
       "       'FARC Dissident - 36th Front', 'FARC Dissident - 30th Front',\n",
       "       'Kogui Indigenous Militia (Colombia)',\n",
       "       'FARC Dissident - Urias Rondon',\n",
       "       'Police Forces of Colombia (2018-) DIRAN',\n",
       "       'FARC Dissident - Mobile Column', 'FARC Dissident - 37th Front',\n",
       "       'FARC Dissident - Oliver Sinisterra Front',\n",
       "       'FARC Dissident - 18th Front',\n",
       "       'FARC Dissident - Edison Cinco Mil Front',\n",
       "       'FARC Dissident - Second Marquetalia',\n",
       "       'Police Forces of Colombia (2018-) ESMAD',\n",
       "       'Unidentified Communal Militia (Colombia)',\n",
       "       'Unidentified Armed Group (Venezuela)', 'Los Pachencas Gang',\n",
       "       'Los Caparros Gang', 'Los Pelusos Gang',\n",
       "       'FARC Dissident - Alfonso Cano Front',\n",
       "       'FARC Dissident - Ismael Ruiz Front',\n",
       "       'FARC Dissident - 62nd Front', 'Los Rastrojos Gang',\n",
       "       'FARC Dissident - Ivan Rios', 'Guardia Indigena (Colombia)'],\n",
       "      dtype=object)"
      ]
     },
     "execution_count": 8,
     "metadata": {},
     "output_type": "execute_result"
    }
   ],
   "source": [
    "df['actor1'].unique()"
   ]
  },
  {
   "cell_type": "code",
   "execution_count": 9,
   "id": "2f63ba4c-25d6-4960-b209-26b2a93cfa6e",
   "metadata": {},
   "outputs": [
    {
     "data": {
      "text/plain": [
       "array(['Civilians (Colombia)', 'Gulf Clan',\n",
       "       'Police Forces of Colombia (2018-)',\n",
       "       'FARC Dissident - Mobile Column',\n",
       "       'Military Forces of Colombia (2018-)', 'FARC Dissident',\n",
       "       'FARC Dissident - 36th Front',\n",
       "       'FARC Dissident - Franco Benavides Mobile Column',\n",
       "       'FARC Dissident - Carlos Patino Front', 'ELN', nan,\n",
       "       'Civilians (Venezuela)', 'FARC Dissident - Second Marquetalia',\n",
       "       'CDF', 'Unidentified Armed Group (Colombia)',\n",
       "       'FARC Dissident - Jaime Martinez',\n",
       "       'FARC Dissident - Carolina Ramirez Front',\n",
       "       'FARC Dissident - 1st Front', 'Private Security Forces (Colombia)',\n",
       "       'El Tren de Aragua Gang', 'GUP', 'Civilians (Haiti)',\n",
       "       'FARC Dissident - Ivan Rios',\n",
       "       'FARC Dissident - Gentil Duarte Front', 'Los Caparros Gang',\n",
       "       'FARC Dissident - 33rd Front', 'FARC Dissident - Dagoberto Ramos',\n",
       "       'Los Pelusos Gang', 'Police Forces of Colombia (2018-) UNP',\n",
       "       'Police Forces of Colombia (2018-) ESMAD', 'Los Rastrojos Gang',\n",
       "       'FARC Dissident - Oliver Sinisterra Front',\n",
       "       'FARC Dissident - 30th Front', 'Civilians (International)', 'EPL'],\n",
       "      dtype=object)"
      ]
     },
     "execution_count": 9,
     "metadata": {},
     "output_type": "execute_result"
    }
   ],
   "source": [
    "df['actor2'].unique()"
   ]
  },
  {
   "cell_type": "markdown",
   "id": "7d3bb803-4f5b-47f0-bfc3-b011de6e7978",
   "metadata": {},
   "source": [
    "Highlight the Geographical Focus (admin1): The admin1 column gives us a geographical breakdown of where the incidents have occurred. By identifying the unique regions within this field, we can understand the geographical distribution of violence, which is instrumental in mapping conflict hotspots and understanding regional dynamics."
   ]
  },
  {
   "cell_type": "code",
   "execution_count": 10,
   "id": "f8190d3c-1129-4193-8999-5f20011b410d",
   "metadata": {},
   "outputs": [
    {
     "data": {
      "text/plain": [
       "array(['Caqueta', 'Norte de Santander', 'Choco', 'Cauca', 'Guaviare',\n",
       "       'Valle del Cauca', 'Cordoba', 'Antioquia', 'Cundinamarca',\n",
       "       'Putumayo', 'Casanare', 'Magdalena', 'La Guajira', 'Caldas',\n",
       "       'Arauca', 'Cesar', 'Guainia', 'Bogota, D.C.', 'Santander', 'Meta',\n",
       "       'Atlantico', 'Narino', 'Bolivar', 'Quindio', 'Huila', 'Risaralda',\n",
       "       'Boyaca', 'Tolima', 'Sucre'], dtype=object)"
      ]
     },
     "execution_count": 10,
     "metadata": {},
     "output_type": "execute_result"
    }
   ],
   "source": [
    "df['admin1'].unique()"
   ]
  },
  {
   "cell_type": "markdown",
   "id": "9dbf1245-c195-411f-91fd-63f074738cef",
   "metadata": {},
   "source": [
    "## Data Cleaning "
   ]
  },
  {
   "cell_type": "code",
   "execution_count": 11,
   "id": "22d68144-dc81-4426-ab7c-80adf0b511b5",
   "metadata": {},
   "outputs": [],
   "source": [
    "df = df.dropna(subset=['lat', 'lon'])\n",
    "gdf = gdf.dropna(subset=['lat', 'lon'])"
   ]
  },
  {
   "cell_type": "markdown",
   "id": "cea44ccc-b108-4da0-ae9a-9a4951f8ecb8",
   "metadata": {},
   "source": [
    "drop columns not relevant to the the task"
   ]
  },
  {
   "cell_type": "code",
   "execution_count": 12,
   "id": "11b04cb2-efef-4280-aa08-8d7b4631bb43",
   "metadata": {
    "scrolled": true
   },
   "outputs": [
    {
     "data": {
      "text/html": [
       "<div>\n",
       "<style scoped>\n",
       "    .dataframe tbody tr th:only-of-type {\n",
       "        vertical-align: middle;\n",
       "    }\n",
       "\n",
       "    .dataframe tbody tr th {\n",
       "        vertical-align: top;\n",
       "    }\n",
       "\n",
       "    .dataframe thead th {\n",
       "        text-align: right;\n",
       "    }\n",
       "</style>\n",
       "<table border=\"1\" class=\"dataframe\">\n",
       "  <thead>\n",
       "    <tr style=\"text-align: right;\">\n",
       "      <th></th>\n",
       "      <th>lat</th>\n",
       "      <th>lon</th>\n",
       "      <th>data_id</th>\n",
       "      <th>event_date</th>\n",
       "      <th>event_type</th>\n",
       "      <th>sub_event_type</th>\n",
       "      <th>actor1</th>\n",
       "      <th>actor2</th>\n",
       "      <th>admin1</th>\n",
       "      <th>lat.1</th>\n",
       "      <th>lon.1</th>\n",
       "      <th>fatalities</th>\n",
       "    </tr>\n",
       "  </thead>\n",
       "  <tbody>\n",
       "    <tr>\n",
       "      <th>0</th>\n",
       "      <td>1.4792</td>\n",
       "      <td>-75.4364</td>\n",
       "      <td>8643511</td>\n",
       "      <td>12-Nov-21</td>\n",
       "      <td>Violence against civilians</td>\n",
       "      <td>Attack</td>\n",
       "      <td>Unidentified Armed Group (Colombia)</td>\n",
       "      <td>Civilians (Colombia)</td>\n",
       "      <td>Caqueta</td>\n",
       "      <td>1.4792</td>\n",
       "      <td>-75.4364</td>\n",
       "      <td>1</td>\n",
       "    </tr>\n",
       "    <tr>\n",
       "      <th>1</th>\n",
       "      <td>7.8939</td>\n",
       "      <td>-72.5078</td>\n",
       "      <td>8643845</td>\n",
       "      <td>12-Nov-21</td>\n",
       "      <td>Violence against civilians</td>\n",
       "      <td>Attack</td>\n",
       "      <td>Police Forces of Colombia (2018-)</td>\n",
       "      <td>Civilians (Colombia)</td>\n",
       "      <td>Norte de Santander</td>\n",
       "      <td>7.8939</td>\n",
       "      <td>-72.5078</td>\n",
       "      <td>0</td>\n",
       "    </tr>\n",
       "    <tr>\n",
       "      <th>2</th>\n",
       "      <td>6.2246</td>\n",
       "      <td>-77.4034</td>\n",
       "      <td>8643619</td>\n",
       "      <td>11-Nov-21</td>\n",
       "      <td>Battles</td>\n",
       "      <td>Armed clash</td>\n",
       "      <td>Military Forces of Colombia (2018-)</td>\n",
       "      <td>Gulf Clan</td>\n",
       "      <td>Choco</td>\n",
       "      <td>6.2246</td>\n",
       "      <td>-77.4034</td>\n",
       "      <td>1</td>\n",
       "    </tr>\n",
       "    <tr>\n",
       "      <th>3</th>\n",
       "      <td>3.0161</td>\n",
       "      <td>-76.4854</td>\n",
       "      <td>8643723</td>\n",
       "      <td>11-Nov-21</td>\n",
       "      <td>Explosions/Remote violence</td>\n",
       "      <td>Grenade</td>\n",
       "      <td>Unidentified Armed Group (Colombia)</td>\n",
       "      <td>Civilians (Colombia)</td>\n",
       "      <td>Cauca</td>\n",
       "      <td>3.0161</td>\n",
       "      <td>-76.4854</td>\n",
       "      <td>0</td>\n",
       "    </tr>\n",
       "    <tr>\n",
       "      <th>4</th>\n",
       "      <td>6.2246</td>\n",
       "      <td>-77.4034</td>\n",
       "      <td>8643501</td>\n",
       "      <td>10-Nov-21</td>\n",
       "      <td>Battles</td>\n",
       "      <td>Armed clash</td>\n",
       "      <td>Gulf Clan</td>\n",
       "      <td>Police Forces of Colombia (2018-)</td>\n",
       "      <td>Choco</td>\n",
       "      <td>6.2246</td>\n",
       "      <td>-77.4034</td>\n",
       "      <td>2</td>\n",
       "    </tr>\n",
       "  </tbody>\n",
       "</table>\n",
       "</div>"
      ],
      "text/plain": [
       "      lat       lon  data_id event_date                  event_type  \\\n",
       "0  1.4792  -75.4364  8643511  12-Nov-21  Violence against civilians   \n",
       "1  7.8939  -72.5078  8643845  12-Nov-21  Violence against civilians   \n",
       "2  6.2246  -77.4034  8643619  11-Nov-21                     Battles   \n",
       "3  3.0161  -76.4854  8643723  11-Nov-21  Explosions/Remote violence   \n",
       "4  6.2246  -77.4034  8643501  10-Nov-21                     Battles   \n",
       "\n",
       "  sub_event_type                               actor1  \\\n",
       "0         Attack  Unidentified Armed Group (Colombia)   \n",
       "1         Attack    Police Forces of Colombia (2018-)   \n",
       "2    Armed clash  Military Forces of Colombia (2018-)   \n",
       "3        Grenade  Unidentified Armed Group (Colombia)   \n",
       "4    Armed clash                            Gulf Clan   \n",
       "\n",
       "                              actor2              admin1   lat.1     lon.1  \\\n",
       "0               Civilians (Colombia)             Caqueta  1.4792  -75.4364   \n",
       "1               Civilians (Colombia)  Norte de Santander  7.8939  -72.5078   \n",
       "2                          Gulf Clan               Choco  6.2246  -77.4034   \n",
       "3               Civilians (Colombia)               Cauca  3.0161  -76.4854   \n",
       "4  Police Forces of Colombia (2018-)               Choco  6.2246  -77.4034   \n",
       "\n",
       "   fatalities  \n",
       "0           1  \n",
       "1           0  \n",
       "2           1  \n",
       "3           0  \n",
       "4           2  "
      ]
     },
     "execution_count": 12,
     "metadata": {},
     "output_type": "execute_result"
    }
   ],
   "source": [
    "df.drop('year', axis=1, inplace=True)\n",
    "df.drop('region', axis=1, inplace=True)\n",
    "df.drop('country', axis=1, inplace=True)\n",
    "df.head()"
   ]
  },
  {
   "cell_type": "code",
   "execution_count": 13,
   "id": "57a6933b-6516-48ae-9e26-6da50291d779",
   "metadata": {},
   "outputs": [],
   "source": [
    "gdf.drop('year', axis=1, inplace=True)\n",
    "gdf.drop('region', axis=1, inplace=True)\n",
    "gdf.drop('country', axis=1, inplace=True)"
   ]
  },
  {
   "cell_type": "markdown",
   "id": "e9fd4a7c-07a1-420f-8a9a-9b172be82168",
   "metadata": {},
   "source": [
    "This includes duplicate columns"
   ]
  },
  {
   "cell_type": "code",
   "execution_count": 14,
   "id": "f663b714-3f87-48cf-8fa1-c9a70d409a1a",
   "metadata": {},
   "outputs": [
    {
     "data": {
      "text/plain": [
       "True"
      ]
     },
     "execution_count": 14,
     "metadata": {},
     "output_type": "execute_result"
    }
   ],
   "source": [
    "(df['lat'] == df['lat.1']).all()"
   ]
  },
  {
   "cell_type": "code",
   "execution_count": 15,
   "id": "72cbe049-1483-4f52-8b1b-38cc0cb62eaa",
   "metadata": {},
   "outputs": [
    {
     "data": {
      "text/plain": [
       "True"
      ]
     },
     "execution_count": 15,
     "metadata": {},
     "output_type": "execute_result"
    }
   ],
   "source": [
    "(df['lon'] == df['lon.1']).all()"
   ]
  },
  {
   "cell_type": "code",
   "execution_count": 16,
   "id": "7499750c-f5b2-477a-92b0-4cf3c5d0b795",
   "metadata": {},
   "outputs": [],
   "source": [
    "df.drop('lat.1', axis=1, inplace=True)\n",
    "df.drop('lon.1', axis=1, inplace=True)"
   ]
  },
  {
   "cell_type": "markdown",
   "id": "6667db3d-cbaf-44ed-a1fe-85105a952d01",
   "metadata": {},
   "source": [
    "identiy missing values"
   ]
  },
  {
   "cell_type": "code",
   "execution_count": 17,
   "id": "e576a3f0-46ee-44d7-bafb-0db069fb163b",
   "metadata": {},
   "outputs": [
    {
     "name": "stdout",
     "output_type": "stream",
     "text": [
      "lat               0\n",
      "lon               0\n",
      "data_id           0\n",
      "event_date        0\n",
      "event_type        0\n",
      "sub_event_type    0\n",
      "actor1            0\n",
      "actor2            7\n",
      "admin1            0\n",
      "fatalities        0\n",
      "dtype: int64\n"
     ]
    }
   ],
   "source": [
    "missing_values = df.isnull().sum()\n",
    "print(missing_values)"
   ]
  },
  {
   "cell_type": "code",
   "execution_count": 18,
   "id": "7f650de2-8499-4dae-b32e-2d4cbacece56",
   "metadata": {
    "scrolled": true
   },
   "outputs": [],
   "source": [
    "missing_actor2_rows = df[df['actor2'].isnull()]"
   ]
  },
  {
   "cell_type": "code",
   "execution_count": 19,
   "id": "6a385fc4-34e7-406c-82ac-916ba66e0222",
   "metadata": {
    "scrolled": true
   },
   "outputs": [
    {
     "name": "stderr",
     "output_type": "stream",
     "text": [
      "C:\\Users\\User\\AppData\\Local\\Temp\\ipykernel_16708\\1158784375.py:1: FutureWarning: A value is trying to be set on a copy of a DataFrame or Series through chained assignment using an inplace method.\n",
      "The behavior will change in pandas 3.0. This inplace method will never work because the intermediate object on which we are setting values always behaves as a copy.\n",
      "\n",
      "For example, when doing 'df[col].method(value, inplace=True)', try using 'df.method({col: value}, inplace=True)' or df[col] = df[col].method(value) instead, to perform the operation inplace on the original object.\n",
      "\n",
      "\n",
      "  df['actor2'].fillna('Unknown', inplace=True)\n"
     ]
    }
   ],
   "source": [
    "df['actor2'].fillna('Unknown', inplace=True)"
   ]
  },
  {
   "cell_type": "markdown",
   "id": "64689ed5-8105-454c-89ae-d346a57424cc",
   "metadata": {},
   "source": [
    "Checking for duplicate rows"
   ]
  },
  {
   "cell_type": "code",
   "execution_count": 20,
   "id": "c68fa2f8-2fe1-4300-995c-e9fcbb32c712",
   "metadata": {
    "scrolled": true
   },
   "outputs": [
    {
     "data": {
      "text/plain": [
       "0"
      ]
     },
     "execution_count": 20,
     "metadata": {},
     "output_type": "execute_result"
    }
   ],
   "source": [
    "df.duplicated().sum()\n",
    "gdf.duplicated().sum()"
   ]
  },
  {
   "cell_type": "code",
   "execution_count": 21,
   "id": "7f1faf93-8ed2-458d-8b37-bf366312878e",
   "metadata": {},
   "outputs": [],
   "source": [
    "#df.to_json('acled-IISSTestdata-cleaned.geojson')"
   ]
  },
  {
   "cell_type": "code",
   "execution_count": null,
   "id": "12a56b73-fea7-4a3f-b687-00e0fe31f3db",
   "metadata": {},
   "outputs": [],
   "source": []
  },
  {
   "cell_type": "code",
   "execution_count": 33,
   "id": "045fa84c-eefa-4918-a12d-dd58cc2898f6",
   "metadata": {},
   "outputs": [
    {
     "data": {
      "text/html": [
       "\n",
       "        <iframe\n",
       "            width=\"100%\"\n",
       "            height=\"650\"\n",
       "            src=\"http://127.0.0.1:8050/\"\n",
       "            frameborder=\"0\"\n",
       "            allowfullscreen\n",
       "            \n",
       "        ></iframe>\n",
       "        "
      ],
      "text/plain": [
       "<IPython.lib.display.IFrame at 0x21235021810>"
      ]
     },
     "metadata": {},
     "output_type": "display_data"
    },
    {
     "name": "stdout",
     "output_type": "stream",
     "text": [
      "---------------------------------------------------------------------------\n",
      "TypeError                                 Traceback (most recent call last)\n",
      "TypeError: toggle_slider() takes 1 positional argument but 5 were given\n",
      "\n"
     ]
    }
   ],
   "source": [
    "# Import Dash components, Plotly, and Pandas\n",
    "import dash\n",
    "from dash import dcc, html\n",
    "from dash.dependencies import Input, Output, State\n",
    "import plotly.express as px\n",
    "import pandas as pd\n",
    "import json\n",
    "import geopandas as gpd\n",
    "from shapely.geometry import Point\n",
    "\n",
    "colombia_gdf = gpd.read_file(\"acled-IISSTestdata.geojson\")\n",
    "colombia_json = json.loads(colombia_gdf.to_json())\n",
    "\n",
    "app = dash.Dash(__name__)\n",
    "\n",
    "actors = ['All'] + sorted(df['actor1'].unique().tolist() + df['actor2'].unique().tolist())\n",
    "event_types = ['All'] + sorted(df['event_type'].unique().tolist())\n",
    "sub_event_types = ['All'] + sorted(df['sub_event_type'].unique().tolist())\n",
    "color_options = ['actor1', 'actor2', 'event_type', 'sub_event_type', 'admin1', 'fatalities']\n",
    "\n",
    "# Updated app layout to include event and sub-event type dropdowns\n",
    "app.layout = html.Div([\n",
    "    html.Div([\n",
    "        html.Div([  # Wrap each label-dropdown pair in its own div\n",
    "            html.Label('Actor 1', style={'marginBottom': '5px'}),\n",
    "            dcc.Dropdown(\n",
    "                id='actor1-dropdown',\n",
    "                options=[{'label': actor, 'value': actor} for actor in actors],\n",
    "                value='All',\n",
    "                style={\"width\": \"200px\"}\n",
    "            )\n",
    "        ], style={'marginRight': '5px'}),\n",
    "\n",
    "        html.Div([  # Repeat the pattern for each dropdown\n",
    "            html.Label('Actor 2', style={'marginBottom': '5px'}),\n",
    "            dcc.Dropdown(\n",
    "                id='actor2-dropdown',\n",
    "                options=[{'label': actor, 'value': actor} for actor in actors],\n",
    "                value='All',\n",
    "                style={\"width\": \"200px\"}\n",
    "            )\n",
    "        ], style={'marginRight': '5px'}),\n",
    "\n",
    "        html.Div([\n",
    "            html.Label('Event Type', style={'marginBottom': '5px'}),\n",
    "            dcc.Dropdown(\n",
    "                id='event-dropdown',\n",
    "                options=[{'label': event, 'value': event} for event in event_types],\n",
    "                value='All',\n",
    "                style={\"width\": \"200px\"}\n",
    "            )\n",
    "        ], style={'marginRight': '5px'}),\n",
    "\n",
    "        html.Div([\n",
    "            html.Label('Sub-Event Type', style={'marginBottom': '5px'}),\n",
    "            dcc.Dropdown(\n",
    "                id='sub-event-dropdown',\n",
    "                options=[{'label': sub_event, 'value': sub_event} for sub_event in sub_event_types],\n",
    "                value='All',\n",
    "                style={\"width\": \"200px\"}\n",
    "            )\n",
    "        ], style={'marginRight': '5px'}),\n",
    "\n",
    "        html.Div([\n",
    "            html.Label('Color Scheme', style={'marginBottom': '5px'}),\n",
    "            dcc.Dropdown(\n",
    "                id='color-scheme-dropdown',\n",
    "                options=[{'label': option, 'value': option} for option in color_options],\n",
    "                value='event_type',\n",
    "                style={\"width\": \"200px\"}\n",
    "            )\n",
    "        ], style={'marginRight': '10px'})\n",
    "    ], style={'display': 'flex', 'flex-wrap': 'wrap', 'margin-top': '10px', 'margin-bottom': '10px'}),\n",
    "\n",
    "    dcc.Graph(id='incident-map'),\n",
    "   html.Div([\n",
    "    dcc.Checklist(\n",
    "        id='time-filter-checklist',\n",
    "        options=[\n",
    "            {'label': 'Show entire year', 'value': 'ALL'}\n",
    "        ],\n",
    "        value=['ALL'],  # Default to showing the entire year\n",
    "        style={'margin': '10px'}\n",
    "    ),\n",
    "    html.Div([  # Wrap the slider within a div for styling\n",
    "        dcc.Slider(\n",
    "            id='month-slider',\n",
    "            min=1,\n",
    "            max=12,\n",
    "            step=1,\n",
    "            marks={i: f'{i}' for i in range(1, 13)},  # Label months from 1 to 12\n",
    "            value=1,\n",
    "            disabled=True,  # Initially disabled\n",
    "        )\n",
    "    ], style={'width': '80%', 'margin': '0 auto'}),  # Apply the styling here\n",
    "    ], style={'textAlign': 'center'}),\n",
    "    dcc.Graph(id='detail-graph')\n",
    "])\n",
    "\n",
    "\n",
    "# Updated callback to include event and sub-event type filters\n",
    "@app.callback(\n",
    "    [Output('incident-map', 'figure'),\n",
    "     Output('detail-graph', 'figure')],\n",
    "    [Input('actor1-dropdown', 'value'),\n",
    "     Input('actor2-dropdown', 'value'),\n",
    "     Input('event-dropdown', 'value'),\n",
    "     Input('sub-event-dropdown', 'value'),\n",
    "     Input('color-scheme-dropdown', 'value'),\n",
    "     Input('time-filter-checklist', 'value'),\n",
    "     Input('month-slider', 'value')]\n",
    ")\n",
    "\n",
    "@app.callback(\n",
    "    Output('month-slider', 'disabled'),\n",
    "    [Input('time-filter-checklist', 'value')]\n",
    ")\n",
    "def toggle_slider(time_filter):\n",
    "    return 'ALL' in time_filter\n",
    "\n",
    "    \n",
    "def update_content(selected_actor1, selected_actor2, selected_event, selected_sub_event, selected_color_scheme, time_filter, selected_month):\n",
    "    filtered_df = df.copy()\n",
    "\n",
    "    # Apply filters\n",
    "    if selected_actor1 != 'All':\n",
    "        filtered_df = filtered_df[(filtered_df['actor1'] == selected_actor1) | (filtered_df['actor2'] == selected_actor1)]\n",
    "    if selected_actor2 != 'All':\n",
    "        filtered_df = filtered_df[(filtered_df['actor1'] == selected_actor2) | (filtered_df['actor2'] == selected_actor2)]\n",
    "    if selected_event != 'All':\n",
    "        filtered_df = filtered_df[filtered_df['event_type'] == selected_event]\n",
    "    if selected_sub_event != 'All':\n",
    "        filtered_df = filtered_df[filtered_df['sub_event_type'] == selected_sub_event]\n",
    "\n",
    "    if 'ALL' not in time_filter:\n",
    "        filtered_df = filtered_df[filtered_df['event_date'].dt.month == selected_month]\n",
    "        \n",
    "    # Adjust sizes: Calculate marker sizes to be proportional to the square root of fatalities + 1\n",
    "    # This makes the area of the marker proportional to the number of fatalities\n",
    "    filtered_df['marker_size'] = (np.sqrt(filtered_df['fatalities'] + 1) * 5) # Multiply by a factor for visibility\n",
    "\n",
    "    # Create the map\n",
    "    if filtered_df.empty:\n",
    "        fig = px.scatter_mapbox(lat=[], lon=[])  # Creates an empty map\n",
    "    else:\n",
    "        fig = px.scatter_mapbox(filtered_df,\n",
    "                                lat=\"lat\",\n",
    "                                lon=\"lon\",\n",
    "                                color=selected_color_scheme, \n",
    "                                size=\"marker_size\",  # Use the adjusted marker size\n",
    "                                hover_name=\"actor1\",\n",
    "                                hover_data=[\"actor2\", \"event_date\", \"sub_event_type\", \"admin1\", \"fatalities\"],\n",
    "                                zoom=5,\n",
    "                                center={\"lat\": 4.5709, \"lon\": -74.2973})\n",
    "\n",
    "    fig.update_layout(mapbox_style=\"open-street-map\")\n",
    "    fig.update_layout(margin={\"r\":0,\"t\":0,\"l\":0,\"b\":0}, title=\"Violent Incidents in Colombia\")\n",
    "\n",
    "    if selected_color_scheme != 'fatalities':\n",
    "        # For categorical data\n",
    "        count_series = filtered_df[selected_color_scheme].value_counts()\n",
    "        bar_fig = px.bar(x=count_series.index, y=count_series.values, labels={'x': selected_color_scheme, 'y': 'Count'})\n",
    "    else:\n",
    "        # For numerical data like 'fatalities', you may want to bin the data or choose another approach\n",
    "        bar_fig = px.histogram(filtered_df, x='fatalities', nbins=20, labels={'fatalities': 'Fatalities Count'})\n",
    "    \n",
    "    bar_fig.update_xaxes(dtick=1) \n",
    "    bar_fig.update_layout(title=f\"Distribution of {selected_color_scheme}\")\n",
    "\n",
    "    # Return both the map and the bar graph\n",
    "    return fig, bar_fig\n",
    "\n",
    "if __name__ == '__main__':\n",
    "    app.run_server(debug=True)\n"
   ]
  },
  {
   "cell_type": "code",
   "execution_count": null,
   "id": "0960dec7-925c-4834-b308-d5299ed58bff",
   "metadata": {},
   "outputs": [],
   "source": []
  }
 ],
 "metadata": {
  "kernelspec": {
   "display_name": "Python 3 (ipykernel)",
   "language": "python",
   "name": "python3"
  },
  "language_info": {
   "codemirror_mode": {
    "name": "ipython",
    "version": 3
   },
   "file_extension": ".py",
   "mimetype": "text/x-python",
   "name": "python",
   "nbconvert_exporter": "python",
   "pygments_lexer": "ipython3",
   "version": "3.11.0"
  }
 },
 "nbformat": 4,
 "nbformat_minor": 5
}
